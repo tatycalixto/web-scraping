{
  "nbformat": 4,
  "nbformat_minor": 0,
  "metadata": {
    "colab": {
      "provenance": [],
      "authorship_tag": "ABX9TyNWlvLfuK7uMA42qcHIviCz",
      "include_colab_link": true
    },
    "kernelspec": {
      "name": "python3",
      "display_name": "Python 3"
    },
    "language_info": {
      "name": "python"
    }
  },
  "cells": [
    {
      "cell_type": "markdown",
      "metadata": {
        "id": "view-in-github",
        "colab_type": "text"
      },
      "source": [
        "<a href=\"https://colab.research.google.com/github/tatycalixto/web-scraping/blob/main/scraping.ipynb\" target=\"_parent\"><img src=\"https://colab.research.google.com/assets/colab-badge.svg\" alt=\"Open In Colab\"/></a>"
      ]
    },
    {
      "cell_type": "markdown",
      "source": [
        "## Importando Bibliotecas"
      ],
      "metadata": {
        "id": "CyoN8a2aWFwT"
      }
    },
    {
      "cell_type": "code",
      "execution_count": 28,
      "metadata": {
        "id": "W3dNjPPcUqBA"
      },
      "outputs": [],
      "source": [
        "from bs4 import BeautifulSoup as bs\n",
        "import requests as rq\n",
        "import re"
      ]
    },
    {
      "cell_type": "markdown",
      "source": [
        "## Pegando HTML do site"
      ],
      "metadata": {
        "id": "kiwy0YmYWR9D"
      }
    },
    {
      "cell_type": "code",
      "source": [
        "html_completo = rq.get(\"https://webscraping.andreregino.com.br/\")\n",
        "html_formatado = bs (html_completo.content)\n",
        "#print(html_formatado.prettify())"
      ],
      "metadata": {
        "id": "rl9Fa9k-WbGV"
      },
      "execution_count": 75,
      "outputs": []
    },
    {
      "cell_type": "code",
      "source": [
        "primeiro_h2 = html_formatado.find(\"h2\").text\n",
        "print(primeiro_h2)"
      ],
      "metadata": {
        "colab": {
          "base_uri": "https://localhost:8080/"
        },
        "id": "d9xyyH2aX--T",
        "outputId": "f8a17fe6-1cd1-45d8-e0e3-cfca0c5dbdde"
      },
      "execution_count": 72,
      "outputs": [
        {
          "output_type": "stream",
          "name": "stdout",
          "text": [
            "Para que aprender Git?\n"
          ]
        }
      ]
    },
    {
      "cell_type": "code",
      "source": [
        "todos_h2 = html_formatado.find_all([\"h2\",\"h1\"])\n",
        "#print(todos_h2)\n",
        "for ocorrencia_h2 in todos_h2:\n",
        "  print(ocorrencia_h2.text)"
      ],
      "metadata": {
        "colab": {
          "base_uri": "https://localhost:8080/"
        },
        "id": "t6GjymAoYcu7",
        "outputId": "84da3c44-eabb-4a79-b4b0-3a967ac2bbfa"
      },
      "execution_count": 73,
      "outputs": [
        {
          "output_type": "stream",
          "name": "stdout",
          "text": [
            "\n",
            "\t\t\t\t\t\t    E-book Git e GitHubSeu Código Versionado\n",
            "\t\t\t\t\t    \n",
            "Para que aprender Git?\n",
            "Para que aprender GitHub?\n",
            "Quais os Benefícios deste E-book?\n",
            "Quais os Tópicos?\n",
            "Quais os Tópicos?\n",
            "Para Quem é Esse Livro\n",
            "Quais os Pré Requisitos\n",
            "Reviews\n",
            "Sobre o Autor\n",
            "Investimento\n",
            "4x de R$9,90\n"
          ]
        }
      ]
    },
    {
      "cell_type": "markdown",
      "source": [
        "## Pegando Conteúdo usando classes e Ids"
      ],
      "metadata": {
        "id": "lOGw9A4taZJr"
      }
    },
    {
      "cell_type": "code",
      "source": [
        "preco = html_formatado.find_all(class_=\"card-title pricing-card-title\")\n",
        "print(preco)\n",
        "pre_requisito = html_formatado.find(id=\"pre-requisite-section\").text\n",
        "print(pre_requisito)"
      ],
      "metadata": {
        "colab": {
          "base_uri": "https://localhost:8080/"
        },
        "id": "uwLIeWxiaesH",
        "outputId": "e5bfb305-165f-44f2-8415-6991e7389c25"
      },
      "execution_count": 74,
      "outputs": [
        {
          "output_type": "stream",
          "name": "stdout",
          "text": [
            "[<h1 class=\"card-title pricing-card-title\"><small class=\"text-muted\">4x de </small><span style=\"color: green\">R$9,90</span></h1>]\n",
            "\n",
            "\n",
            "\n",
            "Quais os Pré Requisitos\n",
            "Nenhum, somente sua vontade de aprender.\n",
            "\n",
            "\n",
            "\n"
          ]
        }
      ]
    },
    {
      "cell_type": "markdown",
      "source": [
        "## Pegando conteúdo com filtro de texto"
      ],
      "metadata": {
        "id": "Esk3oRMEcDak"
      }
    },
    {
      "cell_type": "code",
      "source": [
        "todos_h2 = html_formatado.find_all([\"h2\",\"h1\"],text=re.compile(\"Para que aprender\"))\n",
        "for ocorrencia_h2 in todos_h2:\n",
        "  print(ocorrencia_h2.text)"
      ],
      "metadata": {
        "colab": {
          "base_uri": "https://localhost:8080/"
        },
        "id": "3lsTHYEucH_j",
        "outputId": "1175b55b-7a81-438a-acfe-a2995fb353e7"
      },
      "execution_count": 29,
      "outputs": [
        {
          "output_type": "stream",
          "name": "stdout",
          "text": [
            "Para que aprender Git?\n",
            "Para que aprender GitHub?\n"
          ]
        }
      ]
    },
    {
      "cell_type": "code",
      "source": [
        "botao = html_formatado.find(class_=\"price\").a\n",
        "print(botao['href'])"
      ],
      "metadata": {
        "colab": {
          "base_uri": "https://localhost:8080/"
        },
        "id": "ELnHCtPgdVOQ",
        "outputId": "10ddeca4-1d93-4ca2-b7c5-81ff333b7089"
      },
      "execution_count": 32,
      "outputs": [
        {
          "output_type": "stream",
          "name": "stdout",
          "text": [
            "https://payment.hotmart.com/R54638781B?checkoutMode=10\n"
          ]
        }
      ]
    },
    {
      "cell_type": "code",
      "source": [
        "imagem =  html_formatado.find(\"img\")\n",
        "print(imagem['src'])"
      ],
      "metadata": {
        "colab": {
          "base_uri": "https://localhost:8080/"
        },
        "id": "nJUmDWX0eAJj",
        "outputId": "3ec93ee6-1f3b-4d9e-f5fc-3ca673ebed99"
      },
      "execution_count": 34,
      "outputs": [
        {
          "output_type": "stream",
          "name": "stdout",
          "text": [
            "assets/images/capa-ebook-git-github.png\n"
          ]
        }
      ]
    },
    {
      "cell_type": "code",
      "source": [
        "elemento_da_lista = html_formatado.find(\"section\",class_=\"content-section\").ul.li\n",
        "print(elemento_da_lista)\n",
        "#for elementos in elemento_da_lista:\n",
        "  #print(elementos.li)"
      ],
      "metadata": {
        "colab": {
          "base_uri": "https://localhost:8080/"
        },
        "id": "a741vQtVfPr6",
        "outputId": "1930dfa6-f66f-4691-d3a9-2ae9edbc392f"
      },
      "execution_count": 59,
      "outputs": [
        {
          "output_type": "stream",
          "name": "stdout",
          "text": [
            "<li><i class=\"fas fa-check-circle mr-2\"></i>Instalação do Git e Criação de Conta no GitHub</li>\n"
          ]
        }
      ]
    },
    {
      "cell_type": "code",
      "source": [
        "quarto_elemento_lista = html_formatado.select(\".content-section ul li:nth-of-type(4)\")\n",
        "print(quarto_elemento_lista)\n",
        "\n",
        "todos_elementos_lista = html_formatado.select(\".content-section ul li\")\n",
        "for todos_elementos in todos_elementos_lista :\n",
        "  print(todos_elementos.text)"
      ],
      "metadata": {
        "colab": {
          "base_uri": "https://localhost:8080/"
        },
        "id": "B7cNb65chMZa",
        "outputId": "25655cf5-49c8-4b16-bbf5-44a0e50fe80d"
      },
      "execution_count": 70,
      "outputs": [
        {
          "output_type": "stream",
          "name": "stdout",
          "text": [
            "[<li><i class=\"fas fa-check-circle mr-2\"></i>Lidar com Conflitos e Clonar Projetos Públicos</li>]\n",
            "Instalação do Git e Criação de Conta no GitHub\n",
            "Adicionar, Excluir e Listar  Modificações de Código\n",
            "Receber, Enviar, Verificar e Resetar Modificações de Código\n",
            "Lidar com Conflitos e Clonar Projetos Públicos\n"
          ]
        }
      ]
    }
  ]
}