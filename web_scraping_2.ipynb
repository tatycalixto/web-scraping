{
  "nbformat": 4,
  "nbformat_minor": 0,
  "metadata": {
    "colab": {
      "provenance": [],
      "authorship_tag": "ABX9TyP1a2Aduld8AJOWd91E60EX",
      "include_colab_link": true
    },
    "kernelspec": {
      "name": "python3",
      "display_name": "Python 3"
    },
    "language_info": {
      "name": "python"
    }
  },
  "cells": [
    {
      "cell_type": "markdown",
      "metadata": {
        "id": "view-in-github",
        "colab_type": "text"
      },
      "source": [
        "<a href=\"https://colab.research.google.com/github/tatycalixto/web-scraping/blob/main/web_scraping_2.ipynb\" target=\"_parent\"><img src=\"https://colab.research.google.com/assets/colab-badge.svg\" alt=\"Open In Colab\"/></a>"
      ]
    },
    {
      "cell_type": "markdown",
      "source": [
        "## Importando bibliotecas"
      ],
      "metadata": {
        "id": "wGr7tHkFpU8z"
      }
    },
    {
      "cell_type": "code",
      "execution_count": 29,
      "metadata": {
        "id": "PbJWHrgVpPwr"
      },
      "outputs": [],
      "source": [
        "from bs4 import BeautifulSoup as bs\n",
        "import requests as rq\n",
        "import re"
      ]
    },
    {
      "cell_type": "markdown",
      "source": [
        "## Pegando HTML da Amazon"
      ],
      "metadata": {
        "id": "AgE12cnjpaTD"
      }
    },
    {
      "cell_type": "code",
      "source": [
        "#HEADERS = ({'User-Agent':'Mozilla/5.0 (X11; Linux x86_64)  AppleWebKit/537.36 (KHTML, like Gecko) Chrome/44.0.2403.157 Safari/537.36','Accept-Language': 'en-US, en;q=0.5'})\n",
        "HEADERS = ({'User-Agent':'Mozilla/5.0 (X11; Linux x86_64)  AppleWebKit/537.36 (KHTML, like Gecko) Chrome/44.0.2403.15'})\n",
        "projeto_amazon = rq.get(\"https://www.amazon.com/SanDisk-128GB-MicroSDXC-Memory-Adapter/dp/B08GYKNCCP/\", headers=HEADERS)\n",
        "amazon = bs(projeto_amazon.content)\n",
        "#print(amazon.prettify())"
      ],
      "metadata": {
        "id": "GD7Eh9Q-pfpv"
      },
      "execution_count": 43,
      "outputs": []
    },
    {
      "cell_type": "code",
      "source": [
        "produto = amazon.find(id=\"productTitle\")\n",
        "preco_anterior = amazon.find(class_=\"a-price-whole\")\n",
        "avaliacao = amazon.find(\"i\", class_=\"a-star-5\")\n",
        "categorias = amazon.find(id=\"wayfinding-breadcrumbs_container\")\n",
        "disponibilidade = amazon.find(id=\"availability\")\n",
        "\n",
        "print(\"Nome do produto:\", produto.text.strip())\n",
        "print(\"Valor antes do desconto\", preco_anterior.text)\n",
        "print(\"Avaliação\", avaliacao.getText())\n",
        "print(\"Categorias\", categorias.getText().strip().replace(\"\\n\", \"\"))\n",
        "print(\"Disponibilidade\", disponibilidade.text.strip())"
      ],
      "metadata": {
        "colab": {
          "base_uri": "https://localhost:8080/"
        },
        "id": "1vnGWPTInHGZ",
        "outputId": "bddc6225-0620-4b3b-99a0-589d814404c3"
      },
      "execution_count": 58,
      "outputs": [
        {
          "output_type": "stream",
          "name": "stdout",
          "text": [
            "Nome do produto: SanDisk 128GB Ultra microSDXC UHS-I Memory Card with Adapter - 120MB/s, C10, U1, Full HD, A1, Micro SD Card - SDSQUA4-128G-GN6MA\n",
            "Valor antes do desconto 19.\n",
            "Avaliação \n",
            "Categorias Electronics                         ›                         Computers & Accessories                         ›                         Computer Accessories & Peripherals                         ›                         Memory Cards                         ›                          Micro SD Cards\n",
            "Disponibilidade In Stock.\n"
          ]
        }
      ]
    }
  ]
}