{
  "nbformat": 4,
  "nbformat_minor": 0,
  "metadata": {
    "colab": {
      "provenance": [],
      "authorship_tag": "ABX9TyOOa9NG6Ws6ExB8Io9NgwY4",
      "include_colab_link": true
    },
    "kernelspec": {
      "name": "python3",
      "display_name": "Python 3"
    },
    "language_info": {
      "name": "python"
    }
  },
  "cells": [
    {
      "cell_type": "markdown",
      "metadata": {
        "id": "view-in-github",
        "colab_type": "text"
      },
      "source": [
        "<a href=\"https://colab.research.google.com/github/tatycalixto/web-scraping/blob/main/web_scraping_2.ipynb\" target=\"_parent\"><img src=\"https://colab.research.google.com/assets/colab-badge.svg\" alt=\"Open In Colab\"/></a>"
      ]
    },
    {
      "cell_type": "markdown",
      "source": [
        "## Importando bibliotecas"
      ],
      "metadata": {
        "id": "wGr7tHkFpU8z"
      }
    },
    {
      "cell_type": "code",
      "execution_count": 1,
      "metadata": {
        "id": "PbJWHrgVpPwr"
      },
      "outputs": [],
      "source": [
        "from bs4 import BeautifulSoup as bs\n",
        "import requests as rq\n",
        "import re"
      ]
    },
    {
      "cell_type": "markdown",
      "source": [
        "## Pegando HTML da Amazon"
      ],
      "metadata": {
        "id": "AgE12cnjpaTD"
      }
    },
    {
      "cell_type": "code",
      "source": [
        "html_completo = rq.get(\"https://www.amazon.com.br/Logitech-Trackball-Bluetooth-dispositivos-Recarreg%C3%A1vel/dp/B0753P1GTS/ref=sr_1_2_sspa?__mk_pt_BR=%C3%85M%C3%85%C5%BD%C3%95%C3%91&crid=HBBEOPO1GAHK&keywords=mouse&qid=1673018114&sprefix=mouse%2Caps%2C318&sr=8-2-spons&ufe=app_do%3Aamzn1.fos.4bddec23-2dcf-4403-8597-e1a02442043d&psc=1&spLa=ZW5jcnlwdGVkUXVhbGlmaWVyPUEyOEs3VkIxSVdEUUsyJmVuY3J5cHRlZElkPUEwMDkzNzA3V1ZJUzdCUFZITjgyJmVuY3J5cHRlZEFkSWQ9QTA1Nzc3MDZZUkhUVU5OMzgxU1kmd2lkZ2V0TmFtZT1zcF9hdGYmYWN0aW9uPWNsaWNrUmVkaXJlY3QmZG9Ob3RMb2dDbGljaz10cnVl\")\n",
        "html_formatado = bs (html_completo.content)"
      ],
      "metadata": {
        "id": "GD7Eh9Q-pfpv"
      },
      "execution_count": null,
      "outputs": []
    }
  ]
}